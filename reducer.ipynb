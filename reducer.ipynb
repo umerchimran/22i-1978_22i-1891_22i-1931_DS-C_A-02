{
  "nbformat": 4,
  "nbformat_minor": 0,
  "metadata": {
    "colab": {
      "provenance": []
    },
    "kernelspec": {
      "name": "python3",
      "display_name": "Python 3"
    },
    "language_info": {
      "name": "python"
    }
  },
  "cells": [
    {
      "cell_type": "code",
      "execution_count": null,
      "metadata": {
        "id": "VvHlwtcAYl9M"
      },
      "outputs": [],
      "source": [
        "# the reducer code\n",
        "\n",
        "from collections import defaultdict\n",
        "\n",
        "class Document Reducer:\n",
        "    def __init__(self):\n",
        "        self.word_count = defaultdict(set)\n",
        "\n",
        "    def reduce(self, word_article_pairs):\n",
        "\n",
        "        for word, article_id in word_article_pairs:\n",
        "\n",
        "            self.word_count[word].add(article_id)\n",
        "\n",
        "    def t_counts(self):\n",
        "        for word, articles in self.word_count.items():\n",
        "            yield word, len(articles)\n",
        "\n",
        "class IndexerReducer:\n",
        "    def __init__(self):\n",
        "        pass\n",
        "\n",
        "    def combine_(self, tfidf_values):\n",
        "        tfidf_dict = {}\n",
        "        for word, tfidf in tfidf_values:\n",
        "            tfidf_dict[word] = tfidf\n",
        "        return tfidf_dict\n",
        "\n",
        "    def reduce(self, tfidf_values):\n",
        "        return self.combine_tfidf(tfidf_values)\n",
        "\n",
        "class queryReducer:\n",
        "    def __init__(self):\n",
        "        pass\n",
        "\n",
        "    def rank_documents(self, relevance_scores):\n",
        "        return sorted(relevance_scores, key=lambda x: x[1], reverse=True)\n",
        "\n",
        "    def reduce(self, relevance_scores):\n",
        "        return self.rank_documents(relevance_scores)\n",
        "\n",
        "if __name__ == '__main__':\n",
        "    pass\n"
      ]
    }
  ]
}